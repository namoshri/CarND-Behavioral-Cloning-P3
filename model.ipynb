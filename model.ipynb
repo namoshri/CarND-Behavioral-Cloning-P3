{
 "cells": [
  {
   "cell_type": "code",
   "execution_count": 1,
   "metadata": {},
   "outputs": [
    {
     "name": "stderr",
     "output_type": "stream",
     "text": [
      "Using TensorFlow backend.\n"
     ]
    }
   ],
   "source": [
    "#import everything needed here for all once!\n",
    "\n",
    "import os\n",
    "import csv\n",
    "import cv2\n",
    "from sklearn.model_selection import train_test_split\n",
    "import numpy as np\n",
    "import sklearn\n",
    "from keras.models import Sequential\n",
    "from keras.layers import Flatten, Dense, Lambda, Cropping2D, Dropout\n",
    "from keras.layers.convolutional import Convolution2D\n",
    "from sklearn.model_selection import train_test_split\n",
    "from sklearn.utils import shuffle\n",
    "import matplotlib.pyplot as plt"
   ]
  },
  {
   "cell_type": "code",
   "execution_count": 2,
   "metadata": {},
   "outputs": [],
   "source": [
    "# load training data and split into training and validation\n",
    "samples = []\n",
    "with open('./data/driving_log.csv') as csvfile:\n",
    "    reader = csv.reader(csvfile)\n",
    "    for line in reader:\n",
    "        samples.append(line)\n",
    "\n",
    "    train_samples, validation_samples = train_test_split(samples, test_size=0.2)\n",
    "    #print (samples)"
   ]
  },
  {
   "cell_type": "code",
   "execution_count": 3,
   "metadata": {},
   "outputs": [],
   "source": [
    "#Image brightness\n",
    "\n",
    "def img_bright(img):\n",
    "    rand = np.random.uniform(0.3, 1.2)\n",
    "    hsv = cv2.cvtColor(img, cv2.COLOR_RGB2HSV)\n",
    "    hsv[:,:,2] = hsv[:,:,2] * rand\n",
    "    img2 = cv2.cvtColor(hsv, cv2.COLOR_HSV2RGB)\n",
    "    return img2"
   ]
  },
  {
   "cell_type": "code",
   "execution_count": 4,
   "metadata": {},
   "outputs": [],
   "source": [
    "#Generator to pull on-the-fly\n",
    "\n",
    "def generator(samples, batch_size=32):\n",
    "    num_samples = len(samples)\n",
    "    while 1: # Loop forever so the generator never terminates\n",
    "        shuffle(samples)\n",
    "        for offset in range(0, num_samples, batch_size):\n",
    "            batch_samples = samples[offset:offset+batch_size]\n",
    "\n",
    "            images = []\n",
    "            angles = []\n",
    "            for batch_sample in batch_samples:\n",
    "                for camera in range(3):\n",
    "                    name = './data/IMG/'+batch_sample[camera].split('/')[-1]\n",
    "                    #print (name)\n",
    "                    \n",
    "                    image = cv2.imread(name)\n",
    "                    \n",
    "                    #image = img_bright(image)\n",
    "                    \n",
    "                    #cropping \n",
    "                    img = image[60:140,:,:]\n",
    "                    \n",
    "                    #resize\n",
    "                    image = cv2.resize(img,(64, 64), interpolation=cv2.INTER_AREA)\n",
    "                    \n",
    "                    #Get angle\n",
    "                    angle = float(batch_sample[3])\n",
    "                \n",
    "                    #append image and it's flip\n",
    "                    images.append(image)\n",
    "                    images.append(cv2.flip(image, 1))\n",
    "                \n",
    "                #Use input from 3 cameras with correction as 0.2.\n",
    "                #Use it's flip also\n",
    "                angles.append(angle)\n",
    "                angles.append(angle*-1.0)\n",
    "                angles.append(angle + 0.2)\n",
    "                angles.append((angle + 0.2)*-1.0)\n",
    "                angles.append((angle - 0.2))\n",
    "                angles.append((angle - 0.2)*-1.0)\n",
    "                                \n",
    "\n",
    "            # trim image to only see section with road\n",
    "            X_train = np.array(images)\n",
    "            y_train = np.array(angles)\n",
    "            \n",
    "            \n",
    "            yield sklearn.utils.shuffle(X_train, y_train)"
   ]
  },
  {
   "cell_type": "code",
   "execution_count": 5,
   "metadata": {},
   "outputs": [],
   "source": [
    "# compile and train the model using the generator function\n",
    "train_generator = generator(train_samples, batch_size=32)\n",
    "validation_generator = generator(validation_samples, batch_size=32)"
   ]
  },
  {
   "cell_type": "code",
   "execution_count": 6,
   "metadata": {},
   "outputs": [
    {
     "name": "stdout",
     "output_type": "stream",
     "text": [
      "____________________________________________________________________________________________________\n",
      "Layer (type)                     Output Shape          Param #     Connected to                     \n",
      "====================================================================================================\n",
      "lambda_1 (Lambda)                (None, 64, 64, 3)     0           lambda_input_1[0][0]             \n",
      "____________________________________________________________________________________________________\n",
      "convolution2d_1 (Convolution2D)  (None, 30, 30, 24)    1824        lambda_1[0][0]                   \n",
      "____________________________________________________________________________________________________\n",
      "convolution2d_2 (Convolution2D)  (None, 13, 13, 36)    21636       convolution2d_1[0][0]            \n",
      "____________________________________________________________________________________________________\n",
      "convolution2d_3 (Convolution2D)  (None, 5, 5, 48)      43248       convolution2d_2[0][0]            \n",
      "____________________________________________________________________________________________________\n",
      "convolution2d_4 (Convolution2D)  (None, 3, 3, 64)      27712       convolution2d_3[0][0]            \n",
      "____________________________________________________________________________________________________\n",
      "convolution2d_5 (Convolution2D)  (None, 1, 1, 64)      36928       convolution2d_4[0][0]            \n",
      "____________________________________________________________________________________________________\n",
      "flatten_1 (Flatten)              (None, 64)            0           convolution2d_5[0][0]            \n",
      "____________________________________________________________________________________________________\n",
      "dense_1 (Dense)                  (None, 100)           6500        flatten_1[0][0]                  \n",
      "____________________________________________________________________________________________________\n",
      "dropout_1 (Dropout)              (None, 100)           0           dense_1[0][0]                    \n",
      "____________________________________________________________________________________________________\n",
      "dense_2 (Dense)                  (None, 50)            5050        dropout_1[0][0]                  \n",
      "____________________________________________________________________________________________________\n",
      "dropout_2 (Dropout)              (None, 50)            0           dense_2[0][0]                    \n",
      "____________________________________________________________________________________________________\n",
      "dense_3 (Dense)                  (None, 10)            510         dropout_2[0][0]                  \n",
      "____________________________________________________________________________________________________\n",
      "dense_4 (Dense)                  (None, 1)             11          dense_3[0][0]                    \n",
      "====================================================================================================\n",
      "Total params: 143,419\n",
      "Trainable params: 143,419\n",
      "Non-trainable params: 0\n",
      "____________________________________________________________________________________________________\n"
     ]
    }
   ],
   "source": [
    "ch, row, col = 64, 64, 3 # Trimmed image format\n",
    "\n",
    "model = Sequential()\n",
    "# Preprocess incoming data, centered around zero with small standard deviation\n",
    "model.add(Lambda(lambda x: x/255.0 - 0.5,\n",
    "        input_shape=(ch, row, col),\n",
    "        output_shape=(ch, row, col)))\n",
    "#model.add(Cropping2D(cropping=((50, 20),(0,0))))\n",
    "\n",
    "#My model with reference to nvidia model.\n",
    "model.add(Convolution2D(24,5,5, subsample=(2,2),activation=\"relu\"))\n",
    "model.add(Convolution2D(36,5,5, subsample=(2,2),activation=\"relu\"))\n",
    "model.add(Convolution2D(48,5,5, subsample=(2,2),activation=\"relu\"))\n",
    "model.add(Convolution2D(64,3,3, activation=\"relu\"))\n",
    "model.add(Convolution2D(64,3,3, activation=\"relu\"))\n",
    "\n",
    "model.add(Flatten())\n",
    "model.add(Dense(100))\n",
    "model.add(Dropout(0.50))\n",
    "model.add(Dense(50))\n",
    "model.add(Dropout(0.50))\n",
    "model.add(Dense(10))\n",
    "model.add(Dense(1))\n",
    "\n",
    "model.summary()"
   ]
  },
  {
   "cell_type": "code",
   "execution_count": 7,
   "metadata": {},
   "outputs": [
    {
     "name": "stdout",
     "output_type": "stream",
     "text": [
      "Epoch 1/5\n",
      "38568/38568 [==============================] - 191s - loss: 0.0216 - val_loss: 0.0168\n",
      "Epoch 2/5\n",
      "38568/38568 [==============================] - 190s - loss: 0.0168 - val_loss: 0.0155\n",
      "Epoch 3/5\n",
      "38568/38568 [==============================] - 192s - loss: 0.0151 - val_loss: 0.0144\n",
      "Epoch 4/5\n",
      "38568/38568 [==============================] - 195s - loss: 0.0138 - val_loss: 0.0136\n",
      "Epoch 5/5\n",
      "38568/38568 [==============================] - 211s - loss: 0.0130 - val_loss: 0.0134\n",
      "Model saved.\n"
     ]
    }
   ],
   "source": [
    "#Loss as MSE and optimizer as adam\n",
    "\n",
    "model.compile(loss='mse', optimizer='adam')\n",
    "data = model.fit_generator(train_generator, samples_per_epoch=len(train_samples*6), validation_data=validation_generator, nb_val_samples=len(validation_samples*6), nb_epoch=5, verbose = 1)\n",
    "\n",
    "model.save('model.h5')\n",
    "\n",
    "print (\"Model saved.\")"
   ]
  },
  {
   "cell_type": "code",
   "execution_count": 9,
   "metadata": {},
   "outputs": [
    {
     "name": "stdout",
     "output_type": "stream",
     "text": [
      "dict_keys(['loss', 'val_loss'])\n"
     ]
    }
   ],
   "source": [
    "print(data.history.keys())"
   ]
  },
  {
   "cell_type": "code",
   "execution_count": 8,
   "metadata": {},
   "outputs": [
    {
     "data": {
      "image/png": "[encoded data removed]",
      "text/plain": [
       "<matplotlib.figure.Figure at 0xd0756a0>"
      ]
     },
     "metadata": {},
     "output_type": "display_data"
    }
   ],
   "source": [
    "#Plot loss and validation loss\n",
    "\n",
    "plt.plot(data.history['loss'])\n",
    "plt.plot(data.history['val_loss'])\n",
    "plt.title('Loss summary')\n",
    "plt.ylabel('Loss')\n",
    "plt.xlabel('No. of EpochS')\n",
    "plt.legend(['training', 'validation'], loc='upper right')\n",
    "plt.show()"
   ]
  }
 ],
 "metadata": {
  "kernelspec": {
   "display_name": "Python [default]",
   "language": "python",
   "name": "python3"
  },
  "language_info": {
   "codemirror_mode": {
    "name": "ipython",
    "version": 3
   },
   "file_extension": ".py",
   "mimetype": "text/x-python",
   "name": "python",
   "nbconvert_exporter": "python",
   "pygments_lexer": "ipython3",
   "version": "3.5.2"
  },
  "widgets": {
   "state": {},
   "version": "1.1.2"
  }
 },
 "nbformat": 4,
 "nbformat_minor": 2
}
